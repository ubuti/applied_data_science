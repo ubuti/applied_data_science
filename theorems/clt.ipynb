{
 "cells": [
  {
   "cell_type": "markdown",
   "metadata": {},
   "source": [
    "### The Central Limit Theorem - the law of large numbers\n",
    "\n",
    "![Copy Right](https://miro.medium.com/v2/resize:fit:2560/format:webp/1*N1g9hUN9t6BjaXSqVKwbEQ.png)\n",
    " \n",
    "©️ https://miro.medium.com/v2/resize:fit:2560/format:webp/1*N1g9hUN9t6BjaXSqVKwbEQ.png\n",
    "\n",
    "* What is a the central limit theorem?\n",
    "\n",
    "It refers to the fact that for a large number $N$ a series of sampled random variables (e.g. the means of a set of samples) tends to form a normal distribution irrespective of the original distribution the data comes from.\n",
    "\n",
    "* How does it apply to (any) distribution?\n",
    "\n",
    "To answer this you are encouraged to inspect the probability distributions below. You can play with the slider to see the transition within each distribution depending on the number of means computed. It affects all of them!\n",
    "\n",
    "\n",
    "* Where does it apply in the real world/what usage can be made?\n",
    "\n",
    "This is perhaps the most useful question. Go through the notebook to find out.\n",
    "\n"
   ]
  },
  {
   "cell_type": "code",
   "execution_count": 1,
   "metadata": {},
   "outputs": [
    {
     "data": {
      "text/plain": [
       "Text(0.5, 1.0, 'Sample size: 10000')"
      ]
     },
     "execution_count": 1,
     "metadata": {},
     "output_type": "execute_result"
    },
    {
     "data": {
      "image/png": "[encoded data removed]",
      "text/plain": [
       "<Figure size 1000x500 with 2 Axes>"
      ]
     },
     "metadata": {},
     "output_type": "display_data"
    }
   ],
   "source": [
    "# Binominal\n",
    "\n",
    "# The idea is simple: compute a series of means and look how they are distributed. \n",
    "# Binomial distribution is a good candidate for this task. It models a coin toss with n trials and p probability of success as either 0 or 1.\n",
    "# The mean of a binomial distribution is n*p.\n",
    "\n",
    "\n",
    "import numpy as np\n",
    "import matplotlib.pyplot as plt\n",
    "\n",
    "fig, axs = plt.subplots(1, 2, figsize=(10, 5))\n",
    "\n",
    "# n trials with p probability organized in m sequences\n",
    "n, p, m = 100, 0.5, 1000\n",
    "draw = np.random.binomial(n, p, m)\n",
    "axs[0].hist(draw, bins=max(10, int(np.sqrt(m))));\n",
    "axs[0].set_title(\"Sample size: 1000\")\n",
    "\n",
    "n, p, m = 100, 0.5, 10000\n",
    "draw = np.random.binomial(n, p, m)\n",
    "axs[1].hist(draw, bins=max(10, int(np.sqrt(m))));\n",
    "axs[1].set_title(\"Sample size: 10000\")"
   ]
  },
  {
   "cell_type": "code",
   "execution_count": 1,
   "metadata": {},
   "outputs": [
    {
     "data": {
      "application/vnd.jupyter.widget-view+json": {
       "model_id": "d37f6596b564430f972fcdc103ee430c",
       "version_major": 2,
       "version_minor": 0
      },
      "text/plain": [
       "interactive(children=(IntSlider(value=10, description='Samples:', max=10000, min=10, step=10), IntSlider(value…"
      ]
     },
     "metadata": {},
     "output_type": "display_data"
    },
    {
     "data": {
      "application/vnd.jupyter.widget-view+json": {
       "model_id": "64a179c8bc9c4e6e8ec6d7f8c383dee1",
       "version_major": 2,
       "version_minor": 0
      },
      "text/plain": [
       "interactive(children=(IntSlider(value=10, description='Samples:', max=10000, min=10, step=10), IntSlider(value…"
      ]
     },
     "metadata": {},
     "output_type": "display_data"
    },
    {
     "data": {
      "application/vnd.jupyter.widget-view+json": {
       "model_id": "24e62387a23345dfb61fbbe594772185",
       "version_major": 2,
       "version_minor": 0
      },
      "text/plain": [
       "interactive(children=(IntSlider(value=10, description='Samples:', max=10000, min=10, step=10), IntSlider(value…"
      ]
     },
     "metadata": {},
     "output_type": "display_data"
    },
    {
     "data": {
      "application/vnd.jupyter.widget-view+json": {
       "model_id": "3b824e37a5c04012bc1721c59b2e7645",
       "version_major": 2,
       "version_minor": 0
      },
      "text/plain": [
       "interactive(children=(IntSlider(value=10, description='Samples:', max=10000, min=10, step=10), IntSlider(value…"
      ]
     },
     "metadata": {},
     "output_type": "display_data"
    },
    {
     "data": {
      "application/vnd.jupyter.widget-view+json": {
       "model_id": "ad22ed4310464cab9cd44f4c7fcd110a",
       "version_major": 2,
       "version_minor": 0
      },
      "text/plain": [
       "interactive(children=(IntSlider(value=10, description='Samples:', max=10000, min=10, step=10), IntSlider(value…"
      ]
     },
     "metadata": {},
     "output_type": "display_data"
    },
    {
     "data": {
      "application/vnd.jupyter.widget-view+json": {
       "model_id": "a5ef4bf66c5a4081bbb3cec61c42743d",
       "version_major": 2,
       "version_minor": 0
      },
      "text/plain": [
       "interactive(children=(IntSlider(value=10, description='Samples:', max=10000, min=10, step=10), IntSlider(value…"
      ]
     },
     "metadata": {},
     "output_type": "display_data"
    }
   ],
   "source": [
    "import numpy as np\n",
    "import matplotlib.pyplot as plt\n",
    "from ipywidgets import interactive, IntSlider, widgets\n",
    "from IPython.display import display\n",
    "from scipy import stats\n",
    "\n",
    "\n",
    "def draw_calc_mean(nsequences, func, means_sampled=30, bins=None, overlay_normal=True, **kwargs):\n",
    "    plt.figure(figsize=(10, 6))\n",
    "\n",
    "    # Generate nsequences samples, each of size means_sampled\n",
    "    draw = func(size=(nsequences, means_sampled), **kwargs)\n",
    "\n",
    "    # Calculate mean for each sample\n",
    "    randomvars = np.mean(draw, axis=1)\n",
    "\n",
    "    # Calculate mean and standard deviation of the sample means\n",
    "    sample_mean = np.mean(randomvars)\n",
    "    sample_std = np.std(randomvars)\n",
    "\n",
    "    # Determine number of bins if not specified\n",
    "    if bins is None:\n",
    "        bins = max(10, nsequences // 100)\n",
    "\n",
    "    # Plot histogram\n",
    "    n, bins, patches = plt.hist(\n",
    "        randomvars, bins=bins, density=True, edgecolor='black', alpha=0.7)\n",
    "\n",
    "    # Overlay normal distribution if requested\n",
    "    if overlay_normal:\n",
    "        x = np.linspace(min(randomvars), max(randomvars), 100)\n",
    "        plt.plot(x, stats.norm.pdf(x, sample_mean, sample_std), 'r-', lw=2,\n",
    "                 label=f'Normal: μ={sample_mean:.2f}, σ={sample_std:.2f}')\n",
    "        plt.legend()\n",
    "\n",
    "    plt.title(\n",
    "        f'Mean of {func.__name__} Distribution\\n{nsequences} samples, each of size {means_sampled}')\n",
    "    plt.xlabel('Sample Mean')\n",
    "    plt.ylabel('Density')\n",
    "    plt.grid(True, alpha=0.3)\n",
    "    plt.show()\n",
    "\n",
    "\n",
    "def interactive_dist(func, min_samples=10, max_samples=10000, min_bins=10, max_bins=100, **kwargs):\n",
    "    def update(nsequences, bins, overlay_normal):\n",
    "        draw_calc_mean(nsequences, func, bins=bins,\n",
    "                       overlay_normal=overlay_normal, **kwargs)\n",
    "\n",
    "    samples_slider = IntSlider(\n",
    "        min=min_samples, max=max_samples, step=10, value=min_samples, description='Samples:')\n",
    "    bins_slider = IntSlider(min=min_bins, max=max_bins,\n",
    "                            step=5, value=min_bins, description='Bins:')\n",
    "    overlay_checkbox = widgets.Checkbox(\n",
    "        value=True, description='Overlay Normal')\n",
    "\n",
    "    return interactive(update, nsequences=samples_slider, bins=bins_slider, overlay_normal=overlay_checkbox)\n",
    "\n",
    "\n",
    "# Example usage:\n",
    "# Binomial distribution\n",
    "binomial_widget = interactive_dist(np.random.binomial, n=100, p=0.2)\n",
    "display(binomial_widget)\n",
    "\n",
    "# Normal distribution\n",
    "normal_widget = interactive_dist(np.random.normal, loc=0, scale=1)\n",
    "display(normal_widget)\n",
    "\n",
    "# Poisson distribution\n",
    "poisson_widget = interactive_dist(np.random.poisson, lam=3)\n",
    "display(poisson_widget)\n",
    "\n",
    "# Exponential distribution\n",
    "exponential_widget = interactive_dist(np.random.exponential, scale=1)\n",
    "display(exponential_widget)\n",
    "\n",
    "# Uniform distribution\n",
    "uniform_widget = interactive_dist(np.random.uniform, low=0, high=1)\n",
    "display(uniform_widget)\n",
    "\n",
    "# Gamma distribution\n",
    "gamma_widget = interactive_dist(np.random.gamma, shape=2, scale=1)\n",
    "display(gamma_widget)"
   ]
  },
  {
   "cell_type": "code",
   "execution_count": 4,
   "metadata": {},
   "outputs": [
    {
     "data": {
      "application/vnd.jupyter.widget-view+json": {
       "model_id": "3058f34d74c245ad841948101bc872fe",
       "version_major": 2,
       "version_minor": 0
      },
      "text/plain": [
       "VBox(children=(IntSlider(value=6, description='Sides:', min=2), IntSlider(value=1, description='Rolls:', min=1…"
      ]
     },
     "metadata": {},
     "output_type": "display_data"
    }
   ],
   "source": [
    "import random\n",
    "import ipywidgets as widgets\n",
    "from IPython.display import display\n",
    "\n",
    "\n",
    "def roll_die(sides=6):\n",
    "    return random.randint(1, sides)\n",
    "\n",
    "\n",
    "def simulate_rolls(sides, num_rolls):\n",
    "    results = [roll_die(sides) for _ in range(num_rolls)]\n",
    "    mean_value = sum(results) / num_rolls if num_rolls > 0 else 0\n",
    "    expected_value = np.mean(range(1, sides+1))\n",
    "    results_text = ', '.join(map(str, results))\n",
    "    return f\"Roll results: {results_text}<br>Mean value: {mean_value:.2f} <br>Expected value: {expected_value:1f}\"\n",
    "\n",
    "\n",
    "def update_results(change):\n",
    "    sides = sides_slider.value\n",
    "    num_rolls = rolls_slider.value\n",
    "    results_output.value = simulate_rolls(sides, num_rolls)\n",
    "\n",
    "\n",
    "# Create sliders for sides and number of rolls\n",
    "sides_slider = widgets.IntSlider(\n",
    "    value=6, min=2, max=100, step=1, description='Sides:')\n",
    "rolls_slider = widgets.IntSlider(\n",
    "    value=1, min=1, max=100, step=1, description='Rolls:')\n",
    "\n",
    "# Create output widget for displaying results\n",
    "results_output = widgets.HTML()\n",
    "\n",
    "# Attach the update function to the sliders\n",
    "sides_slider.observe(update_results, names='value')\n",
    "rolls_slider.observe(update_results, names='value')\n",
    "\n",
    "# Display the widgets\n",
    "display(widgets.VBox([sides_slider, rolls_slider, results_output]))\n",
    "\n",
    "# Initial display of results\n",
    "update_results(None)"
   ]
  },
  {
   "cell_type": "code",
   "execution_count": 6,
   "metadata": {},
   "outputs": [
    {
     "name": "stdout",
     "output_type": "stream",
     "text": [
      "Checking consistency between DataFrame 1 and DataFrame 2\n",
      "Result: False\n",
      "Checking consistency between DataFrame 1 and DataFrame 3\n",
      "Result: True\n",
      "Checking consistency between DataFrame 2 and DataFrame 3\n",
      "Result: False\n"
     ]
    }
   ],
   "source": [
    "import pandas as pd\n",
    "\n",
    "df = pd.read_excel('../data/01 Call-Center-Dataset.xlsx')\n",
    "df2 = pd.read_csv('../data/Call Center Data.csv')\n",
    "df3 = pd.read_excel(\n",
    "    '../data/Telecom Company Call-Center-Dataset.xlsx')\n",
    "\n",
    "\n",
    "def check_consistency(df1, df2):\n",
    "    \"\"\"\n",
    "    Check if two DataFrames have the same columns in the same order.\n",
    "\n",
    "    :param df1: First DataFrame to compare\n",
    "    :param df2: Second DataFrame to compare\n",
    "    :return: True if both DataFrames have the same columns in the same order, False otherwise\n",
    "    \"\"\"\n",
    "    # Check if the number of columns matches\n",
    "    if len(df1.columns) != len(df2.columns):\n",
    "        return False\n",
    "\n",
    "    # Check if all columns match in order and names\n",
    "    return all(df1.columns == df2.columns)\n",
    "\n",
    "to_check = [df, df2, df3]\n",
    "\n",
    "# Check consistency between all pairs of DataFrames\n",
    "for i in range(len(to_check)):\n",
    "    for j in range(i + 1, len(to_check)):\n",
    "        print(\n",
    "            f\"Checking consistency between DataFrame {i+1} and DataFrame {j+1}\")\n",
    "        result = check_consistency(to_check[i], to_check[j])\n",
    "        print(f\"Result: {result}\")"
   ]
  },
  {
   "cell_type": "code",
   "execution_count": 7,
   "metadata": {},
   "outputs": [],
   "source": [
    "df_combined = pd.concat([df, df3])\n"
   ]
  },
  {
   "cell_type": "code",
   "execution_count": 8,
   "metadata": {},
   "outputs": [],
   "source": [
    "# Drop rows with missing values in the 'AvgTalkDuration' column\n",
    "df_avg_time = df_combined['AvgTalkDuration'].dropna()"
   ]
  },
  {
   "cell_type": "code",
   "execution_count": 9,
   "metadata": {},
   "outputs": [],
   "source": [
    "import datetime\n",
    "\n",
    "# Function to convert timedate information to time in numbers\n",
    "def convert_time(time_str):\n",
    "    time_str = time_str.split(':')\n",
    "    return datetime.timedelta(hours=int(time_str[0]), minutes=int(time_str[1]), seconds=int(time_str[2]))\n",
    "\n",
    "# Store seconds\n",
    "sec_list = []\n",
    "\n",
    "for i, index in enumerate(df_avg_time.values):\n",
    "    # Extract the time from the string in seconds \n",
    "    sec_list.append(convert_time(str(df_avg_time.values[i])).seconds)\n",
    "    "
   ]
  },
  {
   "cell_type": "code",
   "execution_count": 12,
   "metadata": {},
   "outputs": [
    {
     "data": {
      "image/png": "[encoded data removed]",
      "text/plain": [
       "<Figure size 640x480 with 1 Axes>"
      ]
     },
     "metadata": {},
     "output_type": "display_data"
    }
   ],
   "source": [
    "# Ignore this\n",
    "plt.style.use('ggplot')\n",
    "plt.hist(sec_list, bins=max(10, int(np.sqrt(len(sec_list)))));\n",
    "plt.show()"
   ]
  },
  {
   "cell_type": "code",
   "execution_count": 11,
   "metadata": {},
   "outputs": [
    {
     "name": "stdout",
     "output_type": "stream",
     "text": [
      "CPU times: user 2 μs, sys: 0 ns, total: 2 μs\n",
      "Wall time: 5.01 μs\n",
      "Estimated Population Mean: 225.09\n"
     ]
    },
    {
     "data": {
      "image/png": "[encoded data removed]",
      "text/plain": [
       "<Figure size 1000x500 with 1 Axes>"
      ]
     },
     "metadata": {},
     "output_type": "display_data"
    }
   ],
   "source": [
    "%time\n",
    "\n",
    "import numpy as np\n",
    "import matplotlib.pyplot as plt\n",
    "from numba import jit, njit\n",
    "import warnings\n",
    "warnings.filterwarnings(\"ignore\")\n",
    "\n",
    "# Convert list to numpy array for numba compatibility\n",
    "\n",
    "@jit(nopython=True)\n",
    "def monte_carlo_clt(nsamples, ntrials, population):\n",
    "    \"\"\"\n",
    "    Perform Monte Carlo simulation to demonstrate the Central Limit Theorem.\n",
    "    \n",
    "    :param nsamples: Number of samples to draw per trial\n",
    "    :param ntrials: Number of trials to perform\n",
    "    :param population: The population array to sample from\n",
    "    :return: Array of sample means\n",
    "    \"\"\"\n",
    "    sample_means = np.zeros(ntrials)\n",
    "    population = np.array(population)\n",
    "\n",
    "    # Perform Monte Carlo trials\n",
    "    for i in range(ntrials):\n",
    "        # Draw a sample from the population\n",
    "        sample = np.random.choice(a=population, size=nsamples, replace=True)\n",
    "        # Calculate the mean of the sample\n",
    "        sample_mean = np.mean(sample)\n",
    "        # Store the sample mean\n",
    "        sample_means[i] = sample_mean\n",
    "\n",
    "    return sample_means\n",
    "\n",
    "\n",
    "def plot_sample_means(sample_means):\n",
    "    # Plot the distribution of sample means\n",
    "    plt.figure(figsize=(10, 5))\n",
    "    plt.hist(sample_means, bins=30, edgecolor='black', density=True)\n",
    "    plt.title('Distribution of Sample Means (CLT)')\n",
    "    plt.xlabel('Sample Mean')\n",
    "    plt.ylabel('Frequency')\n",
    "    plt.grid(True)\n",
    "    plt.show()\n",
    "\n",
    "\n",
    "# Example usage with 1000 samples per trial and 1000 trials\n",
    "n_samples = 100\n",
    "n_trials = 10000\n",
    "sample_means = monte_carlo_clt(n_samples, n_trials, sec_list)\n",
    "\n",
    "# Calculate the mean of the sample means to estimate the population mean\n",
    "estimated_mean = np.mean(sample_means)\n",
    "print(f\"Estimated Population Mean: {estimated_mean:.2f}\")\n",
    "\n",
    "# Plot the sample means\n",
    "plot_sample_means(sample_means)"
   ]
  },
  {
   "cell_type": "markdown",
   "metadata": {},
   "source": [
    "This tell us the expected value of the time spend in phone conversations is around 224.92 seconds or 3.748 minutes.\n",
    "\n",
    "How do we this value is accurate? We don't. But relying on the central limit theorem for large N (here $N \\geq 10000$ gives us a reasonable estimate, i.e. the mean value from a gaussian.)\n"
   ]
  }
 ],
 "metadata": {
  "kernelspec": {
   "display_name": "image_analysis_env",
   "language": "python",
   "name": "python3"
  },
  "language_info": {
   "codemirror_mode": {
    "name": "ipython",
    "version": 3
   },
   "file_extension": ".py",
   "mimetype": "text/x-python",
   "name": "python",
   "nbconvert_exporter": "python",
   "pygments_lexer": "ipython3",
   "version": "3.11.9"
  }
 },
 "nbformat": 4,
 "nbformat_minor": 2
}
